{
 "cells": [
  {
   "cell_type": "markdown",
   "metadata": {},
   "source": [
    "## Exercise Question 1\n",
    "Find the 10 countries with most projects"
   ]
  },
  {
   "cell_type": "markdown",
   "metadata": {},
   "source": [
    "Import the necessary packages.\n"
   ]
  },
  {
   "cell_type": "code",
   "execution_count": 2,
   "metadata": {
    "collapsed": true
   },
   "outputs": [],
   "source": [
    "#import the necessary packages\n",
    "import pandas as pd\n",
    "import json\n",
    "from pandas.io.json import json_normalize"
   ]
  },
  {
   "cell_type": "markdown",
   "metadata": {},
   "source": [
    "Next lets load up the file and take a look at the head."
   ]
  },
  {
   "cell_type": "code",
   "execution_count": 21,
   "metadata": {},
   "outputs": [
    {
     "data": {
      "text/plain": [
       "['_id',\n",
       " 'approvalfy',\n",
       " 'board_approval_month',\n",
       " 'boardapprovaldate',\n",
       " 'borrower',\n",
       " 'closingdate',\n",
       " 'country_namecode',\n",
       " 'countrycode',\n",
       " 'countryname',\n",
       " 'countryshortname',\n",
       " 'docty',\n",
       " 'envassesmentcategorycode',\n",
       " 'grantamt',\n",
       " 'ibrdcommamt',\n",
       " 'id',\n",
       " 'idacommamt',\n",
       " 'impagency',\n",
       " 'lendinginstr',\n",
       " 'lendinginstrtype',\n",
       " 'lendprojectcost',\n",
       " 'majorsector_percent',\n",
       " 'mjsector_namecode',\n",
       " 'mjtheme',\n",
       " 'mjtheme_namecode',\n",
       " 'mjthemecode',\n",
       " 'prodline',\n",
       " 'prodlinetext',\n",
       " 'productlinetype',\n",
       " 'project_abstract',\n",
       " 'project_name',\n",
       " 'projectdocs',\n",
       " 'projectfinancialtype',\n",
       " 'projectstatusdisplay',\n",
       " 'regionname',\n",
       " 'sector',\n",
       " 'sector1',\n",
       " 'sector2',\n",
       " 'sector3',\n",
       " 'sector4',\n",
       " 'sector_namecode',\n",
       " 'sectorcode',\n",
       " 'source',\n",
       " 'status',\n",
       " 'supplementprojectflg',\n",
       " 'theme1',\n",
       " 'theme_namecode',\n",
       " 'themecode',\n",
       " 'totalamt',\n",
       " 'totalcommamt',\n",
       " 'url']"
      ]
     },
     "execution_count": 21,
     "metadata": {},
     "output_type": "execute_result"
    }
   ],
   "source": [
    "#load json as string\n",
    "json.load((open('world_bank_projects.json')))\n",
    "\n",
    "#read in the file as world_bank_data, load it into a DataFrame, then preview the column names\n",
    "world_bank_data = pd.read_json('world_bank_projects.json')\n",
    "df = pd.DataFrame(world_bank_data)\n",
    "df.columns.tolist()"
   ]
  },
  {
   "cell_type": "markdown",
   "metadata": {},
   "source": [
    "Next lets make a count of each country that appears in the dataframe."
   ]
  },
  {
   "cell_type": "code",
   "execution_count": 4,
   "metadata": {},
   "outputs": [
    {
     "data": {
      "text/plain": [
       "Republic of Indonesia              19\n",
       "People's Republic of China         19\n",
       "Socialist Republic of Vietnam      17\n",
       "Republic of India                  16\n",
       "Republic of Yemen                  13\n",
       "People's Republic of Bangladesh    12\n",
       "Kingdom of Morocco                 12\n",
       "Nepal                              12\n",
       "Africa                             11\n",
       "Republic of Mozambique             11\n",
       "Name: countryname, dtype: int64"
      ]
     },
     "execution_count": 4,
     "metadata": {},
     "output_type": "execute_result"
    }
   ],
   "source": [
    "#world_bank_data is loaded as variable df. Using value_counts, lets see the top ten entries are in countries\n",
    "df['countryname'].value_counts().nlargest(10)"
   ]
  },
  {
   "cell_type": "markdown",
   "metadata": {},
   "source": [
    "As we can see, the top 10 countries with the most projects are:\n",
    "Republic of Indonesia : 19,\n",
    "People's Republic of China : 19,\n",
    "Socialist Republic of Vietnam : 17,\n",
    "Republic of India : 16,\n",
    "Republic of Yemen : 13,\n",
    "People's Republic of Bangladesh : 12,\n",
    "Nepal : 12,\n",
    "Kingdom of Morocco : 12,\n",
    "Republic of Mozambique : 11,\n",
    "Africa : 11."
   ]
  },
  {
   "cell_type": "markdown",
   "metadata": {},
   "source": [
    "## Exercise Question 2\n",
    "Find the top 10 major project themes (using column 'mjtheme_namecode')"
   ]
  },
  {
   "cell_type": "markdown",
   "metadata": {},
   "source": [
    "We can use the same technique as the above question to make a count of appearences of entries in the 'mjtheme_namecode column', but this time we will need to use json_normalize to extract values of dictionaries nested in each entry."
   ]
  },
  {
   "cell_type": "code",
   "execution_count": 22,
   "metadata": {},
   "outputs": [
    {
     "data": {
      "text/plain": [
       "Environment and natural resources management    223\n",
       "Rural development                               202\n",
       "Human development                               197\n",
       "Public sector governance                        184\n",
       "Social protection and risk management           158\n",
       "Financial and private sector development        130\n",
       "                                                122\n",
       "Social dev/gender/inclusion                     119\n",
       "Trade and integration                            72\n",
       "Urban development                                47\n",
       "Name: name, dtype: int64"
      ]
     },
     "execution_count": 22,
     "metadata": {},
     "output_type": "execute_result"
    }
   ],
   "source": [
    "#Using to_dict, store each entry as a value with the entry id as the key. orient='records' gives it the format\n",
    "#[{column -> value}, ... , {column -> value}]. This format is necessary so that json_normalize can access the nested values.\n",
    "data = df[['id', 'mjtheme_namecode']].to_dict(orient='records')\n",
    "\n",
    "#use json_normalize to create a new DataFrame based on the contents of the mjtheme_namecode dictionary values\n",
    "new_df = json_normalize(data, 'mjtheme_namecode')\n",
    "\n",
    "#Using value_counts, lets see the top ten entries are in 'name'\n",
    "new_df['name'].value_counts().nlargest(10)"
   ]
  },
  {
   "cell_type": "markdown",
   "metadata": {},
   "source": [
    "As we can see, the top 10 project themes are:\n",
    "Environment and natural resources management    250,\n",
    "Rural development                               216,\n",
    "Human development                               210,\n",
    "Public sector governance                        199,\n",
    "Social protection and risk management           168,\n",
    "Financial and private sector development        146,\n",
    "Social dev/gender/inclusion                     130,\n",
    "Trade and integration                            77,\n",
    "Urban development                                50,\n",
    "and Economic management                              38.\n",
    "\n",
    "Note that there are 122 entries were 'name' is blank."
   ]
  },
  {
   "cell_type": "markdown",
   "metadata": {
    "collapsed": true
   },
   "source": [
    "## Exercise Question 3\n",
    "In 2. above you will notice that some entries have only the code and the name is missing. Create a dataframe with the missing names filled in."
   ]
  },
  {
   "cell_type": "code",
   "execution_count": 23,
   "metadata": {},
   "outputs": [
    {
     "data": {
      "text/plain": [
       "{'1': 'Economic management',\n",
       " '10': 'Rural development',\n",
       " '11': 'Environment and natural resources management',\n",
       " '2': 'Public sector governance',\n",
       " '3': 'Rule of law',\n",
       " '4': 'Financial and private sector development',\n",
       " '5': 'Trade and integration',\n",
       " '6': 'Social protection and risk management',\n",
       " '7': 'Social dev/gender/inclusion',\n",
       " '8': 'Human development',\n",
       " '9': 'Urban development'}"
      ]
     },
     "execution_count": 23,
     "metadata": {},
     "output_type": "execute_result"
    }
   ],
   "source": [
    "#initialize a dictionary to assign project theme to code as a value. \n",
    "code_to_name = {}\n",
    "\n",
    "#loop over entries in world_bank_data to create code_to_name dict. Each entry is a list with dictionaries nested within. \n",
    "for entry in world_bank_data['mjtheme_namecode']:\n",
    "    for dic in entry:\n",
    "    #avoid assigning empty values to keys by specifying dic['name] != ''\n",
    "        if dic['code'] not in code_to_name.keys() and dic['name'] != '':\n",
    "            code_to_name[dic['code']] = dic['name']\n",
    "\n",
    "#take a look at the codes and their corresponding names    \n",
    "code_to_name"
   ]
  },
  {
   "cell_type": "code",
   "execution_count": 24,
   "metadata": {
    "collapsed": true
   },
   "outputs": [],
   "source": [
    "#now loop over the dataframe and replace the missing values at 'name' according to their code. \n",
    "for entry in world_bank_data['mjtheme_namecode']:\n",
    "    #since there are more than 1 dictionary with 'name' key, we need to loop over each dictionary as well\n",
    "    for dic in entry:\n",
    "        if dic['name'] == '':\n",
    "            dic['name'] = code_to_name[dic['code']]\n",
    "\n",
    "#verify that missing names have been replaced\n",
    "for entry in world_bank_data['mjtheme_namecode']:\n",
    "    for dic in entry:\n",
    "        assert (dic['name'] != '')"
   ]
  },
  {
   "cell_type": "markdown",
   "metadata": {
    "collapsed": true
   },
   "source": [
    "Our assert throws no errors, verifying that for every entry (a list of dictionaries) in the mjtheme_namecode column, the first dictionary's value at key 'name' is no longer a blank string and has been filled with names associated with the country code key from our code_to_name dictionary. lets test it further by checking the count of each name to make sure there are no ' ' values."
   ]
  },
  {
   "cell_type": "code",
   "execution_count": 17,
   "metadata": {},
   "outputs": [
    {
     "data": {
      "text/plain": [
       "Environment and natural resources management    250\n",
       "Rural development                               216\n",
       "Human development                               210\n",
       "Public sector governance                        199\n",
       "Social protection and risk management           168\n",
       "Financial and private sector development        146\n",
       "Social dev/gender/inclusion                     130\n",
       "Trade and integration                            77\n",
       "Urban development                                50\n",
       "Economic management                              38\n",
       "Rule of law                                      15\n",
       "Name: name, dtype: int64"
      ]
     },
     "execution_count": 17,
     "metadata": {},
     "output_type": "execute_result"
    }
   ],
   "source": [
    "#Again, using to_dict, we store each entry as a value with the entry id as the key.\n",
    "new_data = world_bank_data[['id', 'mjtheme_namecode']].to_dict(orient='records')\n",
    "\n",
    "#use json_normalize to create a new DataFrame based on the contents of the mjtheme_namecode dictionary values\n",
    "new_data = json_normalize(data, 'mjtheme_namecode')\n",
    "\n",
    "#Using value_counts, lets see the number of entries.\n",
    "new_data['name'].value_counts()"
   ]
  },
  {
   "cell_type": "markdown",
   "metadata": {},
   "source": [
    "Looking good!  all 1499 entries are accounted for. "
   ]
  }
 ],
 "metadata": {
  "kernelspec": {
   "display_name": "Python 3",
   "language": "python",
   "name": "python3"
  },
  "language_info": {
   "codemirror_mode": {
    "name": "ipython",
    "version": 3
   },
   "file_extension": ".py",
   "mimetype": "text/x-python",
   "name": "python",
   "nbconvert_exporter": "python",
   "pygments_lexer": "ipython3",
   "version": "3.6.2"
  }
 },
 "nbformat": 4,
 "nbformat_minor": 2
}
